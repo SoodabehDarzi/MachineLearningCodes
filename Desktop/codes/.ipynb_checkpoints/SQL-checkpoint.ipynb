{
 "cells": [
  {
   "cell_type": "markdown",
   "metadata": {},
   "source": [
    "# Selecting columns"
   ]
  },
  {
   "cell_type": "markdown",
   "metadata": {},
   "source": [
    "# SELECTing single columns"
   ]
  },
  {
   "cell_type": "code",
   "execution_count": null,
   "metadata": {
    "collapsed": true
   },
   "outputs": [],
   "source": [
    "SELECT name\n",
    "FROM people;"
   ]
  },
  {
   "cell_type": "markdown",
   "metadata": {},
   "source": [
    "# SELECTing multiple columns"
   ]
  },
  {
   "cell_type": "code",
   "execution_count": null,
   "metadata": {
    "collapsed": true
   },
   "outputs": [],
   "source": [
    "#. this query selects two columns, name and birthdate, from the people table:\n",
    "SELECT name, birthdate\n",
    "FROM people;\n",
    "\n",
    "#. select all columns from a table\n",
    "SELECT *\n",
    "FROM people;\n",
    "\n",
    "#. If you only want to return a certain number of results, to limit the number of rows returned:\n",
    "SELECT *\n",
    "FROM people\n",
    "LIMIT 10;\n",
    "\n"
   ]
  },
  {
   "cell_type": "markdown",
   "metadata": {},
   "source": [
    "# SELECT DISTINCT"
   ]
  },
  {
   "cell_type": "code",
   "execution_count": null,
   "metadata": {
    "collapsed": true
   },
   "outputs": [],
   "source": [
    "#. knowing which languages are represented in the films table:\n",
    "SELECT DISTINCT language\n",
    "FROM films;"
   ]
  },
  {
   "cell_type": "markdown",
   "metadata": {},
   "source": [
    "# Learning to COUNT"
   ]
  },
  {
   "cell_type": "code",
   "execution_count": null,
   "metadata": {
    "collapsed": true
   },
   "outputs": [],
   "source": [
    "#. the number of rows in the people table:\n",
    "SELECT COUNT(*)\n",
    "FROM people;\n",
    "\n",
    "#. count the number of birth dates present in the people table:\n",
    "SELECT COUNT(birthdate)\n",
    "FROM people;\n",
    "\n",
    "#. counts the number of distinct birth dates contained in the people table:\n",
    "SELECT COUNT(DISTINCT birthdate)\n",
    "FROM people;"
   ]
  },
  {
   "cell_type": "markdown",
   "metadata": {},
   "source": [
    "# Filtering rows"
   ]
  },
  {
   "cell_type": "code",
   "execution_count": null,
   "metadata": {
    "collapsed": true
   },
   "outputs": [],
   "source": [
    "#  = equal\n",
    "#.  <> not equal\n",
    "#.  < less than\n",
    "#   > greater than\n",
    "#.  <= less than or equal to\n",
    "#.  >= greater than or equal to\n",
    "#. returns all films with the title 'Metropolis':\n",
    "SELECT title\n",
    "FROM films\n",
    "WHERE title = 'Metropolis';\n",
    "#########\n",
    "SELECT title\n",
    "FROM films\n",
    "WHERE release_year > 2000;"
   ]
  },
  {
   "cell_type": "markdown",
   "metadata": {},
   "source": [
    "# Simple filtering of numeric values"
   ]
  },
  {
   "cell_type": "code",
   "execution_count": null,
   "metadata": {
    "collapsed": true
   },
   "outputs": [],
   "source": [
    "#. Get all details for all films released in 2016.\n",
    "SELECT *\n",
    "FROM films\n",
    "WHERE release_year = 2016\n",
    "\n",
    "#.  Get the number of films released before 2000.\n",
    "SELECT COUNT(*)\n",
    "FROM films\n",
    "WHERE (release_year < 2000)\n",
    "\n",
    "#.  Get the title and release year of films released after 2000.\n",
    "SELECT title, release_year\n",
    "FROM films\n",
    "WHERE release_year > 2000;"
   ]
  },
  {
   "cell_type": "markdown",
   "metadata": {},
   "source": [
    "# Simple filtering of text"
   ]
  },
  {
   "cell_type": "code",
   "execution_count": null,
   "metadata": {
    "collapsed": true
   },
   "outputs": [],
   "source": [
    "#. Get all details for all French language films.\n",
    "SELECT *\n",
    "FROM films\n",
    "WHERE language='French'\n",
    "\n",
    "#. Get the name and birth date of the person born on November 11th, 1974\n",
    "SELECT name, birthdate\n",
    "FROM people\n",
    "WHERE birthdate=('1974-11-11')\n",
    "\n",
    "#.  Get the number of Hindi language films.\n",
    "SELECT COUNT(*)\n",
    "FROM films\n",
    "WHERE language='Hindi'\n",
    "\n",
    "#.  Get all details for all films with an R certification.\n",
    "SELECT *\n",
    "FROM films\n",
    "WHERE certification='R'"
   ]
  },
  {
   "cell_type": "markdown",
   "metadata": {},
   "source": [
    "# WHERE AND"
   ]
  },
  {
   "cell_type": "code",
   "execution_count": null,
   "metadata": {
    "collapsed": true
   },
   "outputs": [],
   "source": [
    "#. Get the title and release year for all Spanish language films released before 2000.\n",
    "SELECT title,release_year\n",
    "FROM films\n",
    "WHERE language='Spanish'\n",
    "AND release_year < 2000;\n",
    "\n",
    "#.  Get all details for Spanish language films released after 2000.\n",
    "SELECT *\n",
    "FROM films\n",
    "WHERE language='Spanish'\n",
    "AND release_year > 2000;\n",
    "\n",
    "#. Get all details for Spanish language films released after 2000, but before 2010.\n",
    "SELECT *\n",
    "FROM films\n",
    "WHERE language='Spanish'\n",
    "AND release_year > 2000 \n",
    "AND release_year < 2010;"
   ]
  },
  {
   "cell_type": "markdown",
   "metadata": {},
   "source": [
    "# WHERE AND OR"
   ]
  },
  {
   "cell_type": "code",
   "execution_count": null,
   "metadata": {
    "collapsed": true
   },
   "outputs": [],
   "source": [
    "#. Get the title and release year for films released in the 90s.\n",
    "SELECT title,release_year\n",
    "FROM films\n",
    "WHERE release_year >= 1990 AND release_year < 2000\n",
    "\n",
    "#. only include French or Spanish language films.\n",
    "SELECT title,release_year\n",
    "FROM films\n",
    "WHERE (release_year >= 1990 AND release_year < 2000)\n",
    "AND (language = 'Spanish' OR language = 'French')\n",
    "\n",
    "#only return films that took in more than $2M gross.\n",
    "SELECT title,release_year\n",
    "FROM films\n",
    "WHERE (release_year >= 1990 AND release_year < 2000)\n",
    "AND (language = 'Spanish' OR language = 'French')\n",
    "AND (gross > 2000000)"
   ]
  },
  {
   "cell_type": "markdown",
   "metadata": {},
   "source": [
    "# BETWEEN"
   ]
  },
  {
   "cell_type": "code",
   "execution_count": null,
   "metadata": {
    "collapsed": true
   },
   "outputs": [],
   "source": [
    "#  Get the title and release year of all films released between 1990 and 2000\n",
    "SELECT title,release_year\n",
    "FROM films\n",
    "WHERE release_year BETWEEN 1990 AND 2000;\n",
    "\n",
    "#  Now, build on your previous query to select only films that have budgets over $100 million.\n",
    "SELECT title,release_year\n",
    "FROM films\n",
    "WHERE release_year BETWEEN 1990 AND 2000\n",
    "AND budget > 100000000\n",
    "\n",
    "#  Now restrict the query to only return Spanish language films.\n",
    "SELECT title,release_year\n",
    "FROM films\n",
    "WHERE release_year BETWEEN 1990 AND 2000\n",
    "AND budget > 100000000\n",
    "AND language = 'Spanish'\n",
    "\n",
    "#. your previous query to include all Spanish language or French language films with the same criteria as before\n",
    "SELECT title,release_year\n",
    "FROM films\n",
    "WHERE release_year BETWEEN 1990 AND 2000\n",
    "AND budget > 100000000\n",
    "AND (language = 'Spanish'OR language = 'French')\n"
   ]
  },
  {
   "cell_type": "code",
   "execution_count": null,
   "metadata": {
    "collapsed": true
   },
   "outputs": [],
   "source": []
  }
 ],
 "metadata": {
  "kernelspec": {
   "display_name": "Python 3",
   "language": "python",
   "name": "python3"
  },
  "language_info": {
   "codemirror_mode": {
    "name": "ipython",
    "version": 3
   },
   "file_extension": ".py",
   "mimetype": "text/x-python",
   "name": "python",
   "nbconvert_exporter": "python",
   "pygments_lexer": "ipython3",
   "version": "3.6.3"
  }
 },
 "nbformat": 4,
 "nbformat_minor": 2
}
