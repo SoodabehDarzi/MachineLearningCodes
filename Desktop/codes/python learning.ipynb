{
 "cells": [
  {
   "cell_type": "code",
   "execution_count": 1,
   "metadata": {},
   "outputs": [
    {
     "name": "stdout",
     "output_type": "stream",
     "text": [
      "Python is a good programming language\n"
     ]
    }
   ],
   "source": [
    "message = \"Python is a \\\n",
    "good programming language\"\n",
    "print(message)"
   ]
  },
  {
   "cell_type": "markdown",
   "metadata": {},
   "source": [
    "# Integer"
   ]
  },
  {
   "cell_type": "code",
   "execution_count": 2,
   "metadata": {},
   "outputs": [
    {
     "name": "stdout",
     "output_type": "stream",
     "text": [
      "9223372036854775807\n"
     ]
    }
   ],
   "source": [
    "#iteger\n",
    "import sys\n",
    "print (sys.maxsize)"
   ]
  },
  {
   "cell_type": "code",
   "execution_count": 3,
   "metadata": {},
   "outputs": [
    {
     "name": "stdout",
     "output_type": "stream",
     "text": [
      "0b101\n"
     ]
    }
   ],
   "source": [
    "#bin() mabnay 2 (Binary)\n",
    "a = 5\n",
    "print(bin(a))"
   ]
  },
  {
   "cell_type": "code",
   "execution_count": 4,
   "metadata": {},
   "outputs": [
    {
     "name": "stdout",
     "output_type": "stream",
     "text": [
      "0o22\n"
     ]
    }
   ],
   "source": [
    "#oct() mabnaye 8 (Octal)\n",
    "a = 18\n",
    "print(oct(a))"
   ]
  },
  {
   "cell_type": "code",
   "execution_count": 5,
   "metadata": {},
   "outputs": [
    {
     "name": "stdout",
     "output_type": "stream",
     "text": [
      "0x14\n"
     ]
    }
   ],
   "source": [
    "#hex() mabnaye 16 (Hexadecimal)\n",
    "a = 20\n",
    "print(hex(a))"
   ]
  },
  {
   "cell_type": "markdown",
   "metadata": {},
   "source": [
    "# Complex"
   ]
  },
  {
   "cell_type": "code",
   "execution_count": 6,
   "metadata": {},
   "outputs": [
    {
     "name": "stdout",
     "output_type": "stream",
     "text": [
      "(4.5+0j)\n",
      "4.5\n",
      "0.0\n"
     ]
    }
   ],
   "source": [
    "a = 4.5\n",
    "b = complex(a)\n",
    "print(b)\n",
    "print(b.real)\n",
    "print(b.imag)"
   ]
  },
  {
   "cell_type": "markdown",
   "metadata": {},
   "source": [
    "# Decimal\n"
   ]
  },
  {
   "cell_type": "code",
   "execution_count": 7,
   "metadata": {},
   "outputs": [
    {
     "data": {
      "text/plain": [
       "True"
      ]
     },
     "execution_count": 7,
     "metadata": {},
     "output_type": "execute_result"
    }
   ],
   "source": [
    "import decimal\n",
    "a = decimal.Decimal(\"0.6\")\n",
    "b = decimal.Decimal(\"0.2\")\n",
    "a == b+b+b"
   ]
  },
  {
   "cell_type": "markdown",
   "metadata": {},
   "source": [
    "# String"
   ]
  },
  {
   "cell_type": "code",
   "execution_count": 8,
   "metadata": {},
   "outputs": [
    {
     "data": {
      "text/plain": [
       "'Python language'"
      ]
     },
     "execution_count": 8,
     "metadata": {},
     "output_type": "execute_result"
    }
   ],
   "source": [
    "a = \"Python language\"\n",
    "a"
   ]
  },
  {
   "cell_type": "code",
   "execution_count": 9,
   "metadata": {},
   "outputs": [
    {
     "data": {
      "text/plain": [
       "'Python language'"
      ]
     },
     "execution_count": 9,
     "metadata": {},
     "output_type": "execute_result"
    }
   ],
   "source": [
    "\"Python language\""
   ]
  },
  {
   "cell_type": "code",
   "execution_count": 10,
   "metadata": {},
   "outputs": [
    {
     "data": {
      "text/plain": [
       "\"I'm a studedent\""
      ]
     },
     "execution_count": 10,
     "metadata": {},
     "output_type": "execute_result"
    }
   ],
   "source": [
    "'I\\'m a studedent'"
   ]
  },
  {
   "cell_type": "code",
   "execution_count": 11,
   "metadata": {},
   "outputs": [
    {
     "data": {
      "text/plain": [
       "'fanavarienovin.net'"
      ]
     },
     "execution_count": 11,
     "metadata": {},
     "output_type": "execute_result"
    }
   ],
   "source": [
    "s1 = \"fanavarienovin\"\n",
    "s2 = \".net\"\n",
    "s1+s2"
   ]
  },
  {
   "cell_type": "code",
   "execution_count": 12,
   "metadata": {},
   "outputs": [
    {
     "data": {
      "text/plain": [
       "'fanavarienovin fanavarienovin fanavarienovin '"
      ]
     },
     "execution_count": 12,
     "metadata": {},
     "output_type": "execute_result"
    }
   ],
   "source": [
    "\"fanavarienovin \"*3"
   ]
  },
  {
   "cell_type": "markdown",
   "metadata": {},
   "source": [
    "# Function"
   ]
  },
  {
   "cell_type": "code",
   "execution_count": 14,
   "metadata": {},
   "outputs": [
    {
     "name": "stdout",
     "output_type": "stream",
     "text": [
      "Enter your name:fanavaienovin\n"
     ]
    }
   ],
   "source": [
    "name = input(\"Enter your name:\")"
   ]
  },
  {
   "cell_type": "code",
   "execution_count": 15,
   "metadata": {},
   "outputs": [
    {
     "name": "stdout",
     "output_type": "stream",
     "text": [
      "Enter a:10\n",
      "Enter b:20\n",
      "Sum is 30\n"
     ]
    }
   ],
   "source": [
    "a = input(\"Enter a:\")\n",
    "b = input(\"Enter b:\")\n",
    "a = int(a)\n",
    "b = int(b)\n",
    "sum = a + b\n",
    "print(\"Sum is\", sum)"
   ]
  },
  {
   "cell_type": "code",
   "execution_count": 17,
   "metadata": {},
   "outputs": [
    {
     "name": "stdout",
     "output_type": "stream",
     "text": [
      "Enter n:15\n"
     ]
    }
   ],
   "source": [
    "n = int(input(\"Enter n:\"))"
   ]
  },
  {
   "cell_type": "code",
   "execution_count": 18,
   "metadata": {},
   "outputs": [
    {
     "name": "stdout",
     "output_type": "stream",
     "text": [
      "Enter a:12\n",
      "Enter b:15\n",
      "12 + 15 = 27\n"
     ]
    }
   ],
   "source": [
    "a = input(\"Enter a:\")\n",
    "a = int(a)\n",
    "b = input(\"Enter b:\")\n",
    "b = int(b)\n",
    "print(a, \"+\", b, \"=\", a+b)"
   ]
  },
  {
   "cell_type": "code",
   "execution_count": 19,
   "metadata": {},
   "outputs": [
    {
     "name": "stdout",
     "output_type": "stream",
     "text": [
      "Enter what is your radious:12.5\n",
      "the area is 490.87343749999997\n"
     ]
    }
   ],
   "source": [
    "response = input(\"Enter what is your radious:\")\n",
    "r = float(response)\n",
    "area = 3.14159 * r**2\n",
    "print(\"the area is\", area)"
   ]
  },
  {
   "cell_type": "code",
   "execution_count": 21,
   "metadata": {},
   "outputs": [
    {
     "name": "stdout",
     "output_type": "stream",
     "text": [
      "Enter your age:31\n",
      "second is: 981150000.0\n",
      "minute is: 16352500.0\n",
      "hour is: 272541.6666666667\n"
     ]
    }
   ],
   "source": [
    "age = input(\"Enter your age:\")\n",
    "age = int(age)\n",
    "second = age * 3165e4\n",
    "minute = second/60\n",
    "hour = second/3600\n",
    "print(\"second is:\", second)\n",
    "print(\"minute is:\", minute)\n",
    "print(\"hour is:\", hour)"
   ]
  },
  {
   "cell_type": "code",
   "execution_count": 22,
   "metadata": {},
   "outputs": [
    {
     "name": "stdout",
     "output_type": "stream",
     "text": [
      "Enter a number47\n",
      "reverse is: 74\n"
     ]
    }
   ],
   "source": [
    "a = input(\"Enter a number\")\n",
    "a = int(a)\n",
    "r1 = a % 10\n",
    "r2 = a // 10\n",
    "print(\"reverse is:\", r1*10 +r2)"
   ]
  },
  {
   "cell_type": "code",
   "execution_count": 23,
   "metadata": {},
   "outputs": [
    {
     "name": "stdout",
     "output_type": "stream",
     "text": [
      "Enter a:14\n",
      "Enter b:3\n",
      "2 4\n"
     ]
    }
   ],
   "source": [
    "a = int(input(\"Enter a:\"))\n",
    "b = int(input(\"Enter b:\"))\n",
    "print(a % b,\" \", a // b)"
   ]
  },
  {
   "cell_type": "code",
   "execution_count": 26,
   "metadata": {},
   "outputs": [
    {
     "name": "stdout",
     "output_type": "stream",
     "text": [
      "Enter x:7\n",
      "Enter y:6\n",
      "Z= 942\n"
     ]
    }
   ],
   "source": [
    "x = int(input(\"Enter x:\"))\n",
    "y = int(input(\"Enter y:\"))\n",
    "z= x**3+2*x**2*y+3*y-7\n",
    "print(\"Z=\", z)"
   ]
  },
  {
   "cell_type": "code",
   "execution_count": 29,
   "metadata": {},
   "outputs": [
    {
     "name": "stdout",
     "output_type": "stream",
     "text": [
      "Enter string: Python\n",
      "Enter repeat:5\n",
      "PythonPythonPythonPythonPython\n"
     ]
    }
   ],
   "source": [
    "s = (input(\"Enter string: \"))\n",
    "r = int(input(\"Enter repeat:\"))\n",
    "print(s * r)"
   ]
  },
  {
   "cell_type": "code",
   "execution_count": 30,
   "metadata": {},
   "outputs": [
    {
     "name": "stdout",
     "output_type": "stream",
     "text": [
      "Enter a:12\n",
      "Enter b:-4\n",
      "(12-4j)\n"
     ]
    }
   ],
   "source": [
    "a = int(input(\"Enter a:\"))\n",
    "b = int(input(\"Enter b:\"))\n",
    "complex1 = complex(a, b)\n",
    "print(complex1)\n"
   ]
  },
  {
   "cell_type": "markdown",
   "metadata": {
    "collapsed": true
   },
   "source": [
    "# Examples\n"
   ]
  },
  {
   "cell_type": "code",
   "execution_count": 3,
   "metadata": {},
   "outputs": [
    {
     "name": "stdout",
     "output_type": "stream",
     "text": [
      "Enter a:12\n",
      "Enter b:8\n",
      "Enter c:9\n",
      "Prime is: 29.0\n",
      "area is: 35.99913193397863\n"
     ]
    }
   ],
   "source": [
    "a = float(input(\"Enter a:\"))\n",
    "b = float(input(\"Enter b:\"))\n",
    "c = float(input(\"Enter c:\"))\n",
    "p = (a + b + c)\n",
    "print(\"Prime is:\", p) \n",
    "p = p/2\n",
    "s = (p*(p-a)*(p-b)*(p-c))**0.5\n",
    "print(\"area is:\", s)"
   ]
  },
  {
   "cell_type": "code",
   "execution_count": 4,
   "metadata": {},
   "outputs": [
    {
     "name": "stdout",
     "output_type": "stream",
     "text": [
      "Enter a:7\n",
      "Enter b:2\n",
      "f is: 7.0\n"
     ]
    }
   ],
   "source": [
    "a = float(input(\"Enter a:\"))\n",
    "b = float(input(\"Enter b:\"))\n",
    "f = (a**b)**0.5\n",
    "print(\"f is:\", f)"
   ]
  },
  {
   "cell_type": "code",
   "execution_count": 7,
   "metadata": {},
   "outputs": [
    {
     "name": "stdout",
     "output_type": "stream",
     "text": [
      "Enter a:34\n",
      "4 ** 3 = 64\n",
      "3 ** 4 = 81\n"
     ]
    }
   ],
   "source": [
    "a = int(input(\"Enter a:\"))\n",
    "r1 = a % 10\n",
    "r2 = a // 10\n",
    "print(r1, \"**\", r2, \"=\", r1 ** r2)\n",
    "print(r2, \"**\", r1, \"=\", r2 ** r1)"
   ]
  },
  {
   "cell_type": "code",
   "execution_count": 8,
   "metadata": {},
   "outputs": [
    {
     "name": "stdout",
     "output_type": "stream",
     "text": [
      "Enter a:12\n",
      "Enter b:20\n",
      "a: 20\n",
      "b: 12\n"
     ]
    }
   ],
   "source": [
    "a = int(input(\"Enter a:\"))\n",
    "b = int(input(\"Enter b:\"))\n",
    "a,b = b,a\n",
    "print(\"a:\",a)\n",
    "print(\"b:\",b)"
   ]
  },
  {
   "cell_type": "code",
   "execution_count": 9,
   "metadata": {},
   "outputs": [
    {
     "name": "stdout",
     "output_type": "stream",
     "text": [
      "Enter a:7\n",
      "Enter h:9\n",
      "s: 31.5\n"
     ]
    }
   ],
   "source": [
    "a = float(input(\"Enter a:\"))\n",
    "h = float(input(\"Enter h:\"))\n",
    "s = (a*h)/2\n",
    "print(\"s:\", s)"
   ]
  },
  {
   "cell_type": "code",
   "execution_count": 10,
   "metadata": {},
   "outputs": [
    {
     "name": "stdout",
     "output_type": "stream",
     "text": [
      "Enter x:10\n",
      "Enter k:15\n",
      "Enter n:3\n",
      "a: 33.333333333333336\n"
     ]
    }
   ],
   "source": [
    "x = int(input(\"Enter x:\"))\n",
    "k = int(input(\"Enter k:\"))\n",
    "n = int(input(\"Enter n:\"))\n",
    "a = ((k-x)*20)/n\n",
    "print(\"a:\",a)"
   ]
  },
  {
   "cell_type": "code",
   "execution_count": 16,
   "metadata": {},
   "outputs": [
    {
     "name": "stdout",
     "output_type": "stream",
     "text": [
      "--- \t --- \t ---\n",
      "1 \t 1 \t 1\n",
      "4 \t 8 \t 16\n",
      "9 \t 27 \t 81\n",
      "16 \t 64 \t 256\n",
      "25 \t 125 \t 625\n",
      "36 \t 216 \t 1296\n",
      "49 \t 343 \t 2401\n",
      "64 \t 512 \t 4096\n",
      "81 \t 729 \t 6561\n"
     ]
    }
   ],
   "source": [
    "print('---', '\\t', \"---\", '\\t', \"---\")\n",
    "print(1**2, '\\t', 1**3, '\\t', 1**4)\n",
    "print(2**2, '\\t', 2**3, '\\t', 2**4)\n",
    "print(3**2, '\\t', 3**3, '\\t', 3**4)\n",
    "print(4**2, '\\t', 4**3, '\\t', 4**4)\n",
    "print(5**2, '\\t', 5**3, '\\t', 5**4)\n",
    "print(6**2, '\\t', 6**3, '\\t', 6**4)\n",
    "print(7**2, '\\t', 7**3, '\\t', 7**4)\n",
    "print(8**2, '\\t', 8**3, '\\t', 8**4)\n",
    "print(9**2, '\\t', 9**3, '\\t', 9**4)"
   ]
  },
  {
   "cell_type": "code",
   "execution_count": 17,
   "metadata": {},
   "outputs": [
    {
     "name": "stdout",
     "output_type": "stream",
     "text": [
      "Enter x1:12\n",
      "Enter y1:14\n",
      "Enter x2:19\n",
      "Enter y2:24\n",
      "distance is 24.43358344574123\n"
     ]
    }
   ],
   "source": [
    "x1 = int(input(\"Enter x1:\"))\n",
    "y1 = int(input(\"Enter y1:\"))\n",
    "x2= int(input(\"Enter x2:\"))\n",
    "y2 = int(input(\"Enter y2:\"))\n",
    "d = ((x2**2-x1**2)+(y2**2-y1**2))**0.5\n",
    "print(\"distance is\", d)"
   ]
  },
  {
   "cell_type": "code",
   "execution_count": 18,
   "metadata": {},
   "outputs": [
    {
     "name": "stdout",
     "output_type": "stream",
     "text": [
      "Enter a:10\n",
      "Enter b:12.5\n",
      "Enter c:string\n",
      "type a is: <class 'int'>\n",
      "type b is: <class 'float'>\n",
      "type c is: <class 'str'>\n"
     ]
    }
   ],
   "source": [
    "a = int(input(\"Enter a:\"))\n",
    "b = float(input(\"Enter b:\"))\n",
    "c = input(\"Enter c:\")\n",
    "print(\"type a is:\", type(a))\n",
    "print(\"type b is:\", type(b))\n",
    "print(\"type c is:\", type(c))"
   ]
  },
  {
   "cell_type": "code",
   "execution_count": 21,
   "metadata": {},
   "outputs": [
    {
     "name": "stdout",
     "output_type": "stream",
     "text": [
      "Enter a:10\n",
      "Enter b:fanavarienovin\n",
      "ID a is 4546369872\n",
      "ID b is 4595524144\n"
     ]
    }
   ],
   "source": [
    "a = int(input(\"Enter a:\"))\n",
    "b= input(\"Enter b:\")\n",
    "print(\"ID a is\",id(a))\n",
    "print(\"ID b is\",id(b))"
   ]
  },
  {
   "cell_type": "markdown",
   "metadata": {},
   "source": [
    "# Projects\n"
   ]
  },
  {
   "cell_type": "markdown",
   "metadata": {},
   "source": [
    "# kandan addad 5 raghami\n"
   ]
  },
  {
   "cell_type": "code",
   "execution_count": 22,
   "metadata": {},
   "outputs": [
    {
     "name": "stdout",
     "output_type": "stream",
     "text": [
      "Enter a number67181\n",
      "6  7  1  8  1\n"
     ]
    }
   ],
   "source": [
    "num = int(input(\"Enter a number\"))\n",
    "a1 = num % 10\n",
    "temp = num // 10\n",
    "a2 = temp % 10\n",
    "temp = temp // 10\n",
    "a3 = temp % 10\n",
    "temp = temp //10\n",
    "a4 = temp % 10\n",
    "temp = temp // 10\n",
    "a5 = temp % 10\n",
    "temp = temp //10\n",
    "print(a5, \"\", a4, \"\", a3, \"\", a2, \"\", a1)"
   ]
  },
  {
   "cell_type": "code",
   "execution_count": 28,
   "metadata": {},
   "outputs": [
    {
     "name": "stdout",
     "output_type": "stream",
     "text": [
      "Enter a number1:12\n",
      "Enter a number2:5\n",
      "12 + 5 = 17\n",
      "12 - 5 = 7\n",
      "12 * 5 = 60\n",
      "12 / 5 = 2.4\n",
      "12 // 5 = 2\n",
      "12 % 5 = 2\n",
      "12 ** 5 = 248832\n",
      "12 and 5 = 5\n",
      "12 or 5 = 12\n",
      "12 & 5 = 4\n",
      "12 | 5 = 13\n",
      "12 ^ 5 = 9\n",
      "0b1100 + 0b101 = 0b10001\n",
      "0b1100 - 0b101 = 0b111\n",
      "0b1100 * 0b101 = 0b111100\n",
      "0b1100 // 0b101 = 0b10\n",
      "0b1100 % 0b101 = 0b10\n",
      "0b1100 ** 0b101 = 0b111100110000000000\n",
      "0o14 + 0o5 = 0o21\n",
      "0o14 - 0o5 = 0o7\n",
      "0o14 * 0o5 = 0o74\n",
      "0o14 // 0o5 = 0o2\n",
      "0o14 % 0o5 = 0o2\n",
      "0o14 ** 0o5 = 0o746000\n",
      "0xc + 0x5 = 0x11\n",
      "0xc - 0x5 = 0x7\n",
      "0xc * 0x5 = 0x3c\n",
      "0xc // 0x5 = 0x2\n",
      "0xc % 0x5 = 0x2\n",
      "0xc ** 0x5 = 0x3cc00\n"
     ]
    }
   ],
   "source": [
    "num1 = int(input(\"Enter a number1:\"))\n",
    "num2 = int(input(\"Enter a number2:\"))\n",
    "print(num1, \"+\", num2, \"=\", num1+num2)\n",
    "print(num1, \"-\", num2, \"=\", num1-num2)\n",
    "print(num1, \"*\", num2, \"=\", num1*num2)\n",
    "print(num1, \"/\", num2, \"=\", num1/num2)\n",
    "print(num1, \"//\", num2, \"=\", num1//num2)\n",
    "print(num1, \"%\", num2, \"=\", num1%num2)\n",
    "print(num1, \"**\", num2, \"=\", num1**num2)\n",
    "\n",
    "print(num1, \"and\", num2, \"=\", num1 and num2)\n",
    "print(num1, \"or\", num2, \"=\", num1 or num2)\n",
    "print(num1, \"&\", num2, \"=\", num1 & num2)\n",
    "print(num1, \"|\", num2, \"=\", num1 | num2)\n",
    "print(num1, \"^\", num2, \"=\", num1 ^ num2)\n",
    "\n",
    "print(bin(num1), \"+\", bin(num2), \"=\", bin(num1+num2))\n",
    "print(bin(num1), \"-\", bin(num2), \"=\", bin(num1-num2))\n",
    "print(bin(num1), \"*\", bin(num2), \"=\", bin(num1*num2))\n",
    "print(bin(num1), \"//\", bin(num2), \"=\", bin(num1//num2))\n",
    "print(bin(num1), \"%\", bin(num2), \"=\", bin(num1%num2))\n",
    "print(bin(num1), \"**\", bin(num2), \"=\", bin(num1**num2))\n",
    "\n",
    "print(oct(num1), \"+\", oct(num2), \"=\", oct(num1+num2))\n",
    "print(oct(num1), \"-\", oct(num2), \"=\", oct(num1-num2))\n",
    "print(oct(num1), \"*\", oct(num2), \"=\", oct(num1*num2))\n",
    "print(oct(num1), \"//\", oct(num2), \"=\", oct(num1//num2))\n",
    "print(oct(num1), \"%\", oct(num2), \"=\", oct(num1%num2))\n",
    "print(oct(num1), \"**\", oct(num2), \"=\", oct(num1**num2))\n",
    "      \n",
    "print(hex(num1), \"+\", hex(num2), \"=\", hex(num1+num2))\n",
    "print(hex(num1), \"-\", hex(num2), \"=\", hex(num1-num2))  \n",
    "print(hex(num1), \"*\", hex(num2), \"=\", hex(num1*num2))   \n",
    "print(hex(num1), \"//\", hex(num2), \"=\", hex(num1//num2))   \n",
    "print(hex(num1), \"%\", hex(num2), \"=\", hex(num1%num2))   \n",
    "print(hex(num1), \"**\", hex(num2), \"=\", hex(num1**num2))         "
   ]
  },
  {
   "cell_type": "markdown",
   "metadata": {},
   "source": [
    "# if, else, ..."
   ]
  },
  {
   "cell_type": "code",
   "execution_count": 30,
   "metadata": {},
   "outputs": [
    {
     "name": "stdout",
     "output_type": "stream",
     "text": [
      "Enter number:15\n",
      "odd\n"
     ]
    }
   ],
   "source": [
    "n = int(input(\"Enter number:\"))\n",
    "if n%2 == 1:\n",
    "    print(\"odd\")\n",
    "else:\n",
    "    print(\"even\")\n"
   ]
  },
  {
   "cell_type": "code",
   "execution_count": 33,
   "metadata": {},
   "outputs": [
    {
     "name": "stdout",
     "output_type": "stream",
     "text": [
      "Enter number:-12\n",
      "Entered value is negative\n"
     ]
    }
   ],
   "source": [
    "val =int(input(\"Enter number:\"))\n",
    "if val>0:\n",
    "    print(\"Entered value is positive\")\n",
    "elif val==0:\n",
    "    print(\"Entered value is zero\")\n",
    "else:\n",
    "    print(\"Entered value is negative\")"
   ]
  },
  {
   "cell_type": "code",
   "execution_count": 37,
   "metadata": {},
   "outputs": [
    {
     "name": "stdout",
     "output_type": "stream",
     "text": [
      "Enter a:2\n",
      "Enter b:4\n",
      "Enter c:2\n",
      "x1=x2= -1.0\n"
     ]
    }
   ],
   "source": [
    "a =int(input(\"Enter a:\"))\n",
    "b =int(input(\"Enter b:\"))\n",
    "c =int(input(\"Enter c:\"))\n",
    "delta = b**2-4*a*c\n",
    "if delta < 0:\n",
    "    print(\"Not root\")\n",
    "elif delta == 0:\n",
    "    print(\"x1=x2=\", -b/(2.0*a))\n",
    "else:\n",
    "    print(\"x2=\", (-b-delta**0.5)/(2.0*a))\n",
    "    print(\"x1=\", (-b+delta**0.5)/(2.0*a))"
   ]
  },
  {
   "cell_type": "code",
   "execution_count": 40,
   "metadata": {},
   "outputs": [
    {
     "name": "stdout",
     "output_type": "stream",
     "text": [
      "Enter grade:90\n",
      "Very Good\n"
     ]
    }
   ],
   "source": [
    "grade =int(input(\"Enter grade:\"))\n",
    "if (0<=grade<=70):\n",
    "    print(\"Fail\")\n",
    "elif (71<=grade<=80):\n",
    "    print(\"Good\")\n",
    "elif (81<=grade<=90):\n",
    "    print(\"Very Good\")\n",
    "elif (91<=grade<=100):\n",
    "    print(\"Excellent\")\n",
    "else:\n",
    "    print(\"Invalid Grade\")"
   ]
  },
  {
   "cell_type": "code",
   "execution_count": 44,
   "metadata": {},
   "outputs": [
    {
     "name": "stdout",
     "output_type": "stream",
     "text": [
      "Enter n:12\n",
      "12\t11\t10\t9\t8\t7\t6\t5\t4\t3\t2\t1\t\n",
      "Multiply is  479001600\n"
     ]
    }
   ],
   "source": [
    "n =int(input(\"Enter n:\"))\n",
    "p=1\n",
    "for i in range(n, 0, -1):\n",
    "    print(i, end = '\\t')\n",
    "    p=p*i\n",
    "print(\"\\nMultiply is \", p)\n",
    "\n",
    "\n",
    "    "
   ]
  },
  {
   "cell_type": "code",
   "execution_count": 47,
   "metadata": {},
   "outputs": [
    {
     "name": "stdout",
     "output_type": "stream",
     "text": [
      "Enter n:8564901\n",
      "Max is: 9\n"
     ]
    }
   ],
   "source": [
    "n = int(input(\"Enter n:\"))\n",
    "max = n%10\n",
    "while n>0:\n",
    "    if max < n%10:\n",
    "       max = n%10\n",
    "    n = n // 10\n",
    "print(\"Max is:\", max)\n"
   ]
  },
  {
   "cell_type": "markdown",
   "metadata": {
    "collapsed": true
   },
   "source": [
    "# Functions"
   ]
  },
  {
   "cell_type": "code",
   "execution_count": null,
   "metadata": {
    "collapsed": true
   },
   "outputs": [],
   "source": []
  }
 ],
 "metadata": {
  "kernelspec": {
   "display_name": "Python 3",
   "language": "python",
   "name": "python3"
  },
  "language_info": {
   "codemirror_mode": {
    "name": "ipython",
    "version": 3
   },
   "file_extension": ".py",
   "mimetype": "text/x-python",
   "name": "python",
   "nbconvert_exporter": "python",
   "pygments_lexer": "ipython3",
   "version": "3.6.3"
  }
 },
 "nbformat": 4,
 "nbformat_minor": 2
}
